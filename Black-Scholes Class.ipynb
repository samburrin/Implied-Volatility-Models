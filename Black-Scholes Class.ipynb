{
 "cells": [
  {
   "cell_type": "code",
   "execution_count": 1,
   "metadata": {},
   "outputs": [],
   "source": [
    "import pandas as pd\n",
    "import numpy as np\n",
    "from scipy.stats import norm"
   ]
  },
  {
   "cell_type": "code",
   "execution_count": 5,
   "metadata": {},
   "outputs": [],
   "source": [
    "class BlackScholes:\n",
    "    def __init__(self, time_to_expiry, strike, interest_rate, share_price, vol, dividend):\n",
    "        self.t = time_to_expiry\n",
    "        self.k = strike\n",
    "        self.r = interest_rate\n",
    "        self.s = share_price\n",
    "        self.v = vol\n",
    "        self.q = dividend\n",
    "        self.d1 = (np.log(share_price / strike) + (interest_rate - dividend + 0.5 * vol**2) * time_to_expiry) / (vol * np.sqrt(time_to_expiry))\n",
    "        self.d2 = self.d1 - vol * np.sqrt(time_to_expiry) \n",
    "\n",
    "    def delta(self, option_type):\n",
    "        if option_type == 'call':\n",
    "            return np.exp(-self.q * self.t) * norm.cdf(self.d1)\n",
    "        \n",
    "        elif option_type == 'put':\n",
    "            return np.exp(-self.q * self.t) * (norm.cdf(self.d1) - 1)\n",
    "    \n",
    "    def gamma(self):\n",
    "        return norm.pdf(self.d1) / (self.s * self.v * np.sqrt(self.t)) * np.exp(-self.q * self.t)\n",
    "\n",
    "    def vega(self):\n",
    "        return self.s * norm.pdf(self.d1) * np.sqrt(self.t) * np.exp(-self.q * self.t) / 100\n",
    "\n",
    "    def theta(self, option_type):\n",
    "\n",
    "        term1 = -(self.s * norm.pdf(self.d1) * self.v) / (2 * np.sqrt(self.t)) * np.exp(-self.q * self.t)\n",
    "        \n",
    "        if option_type == 'call':\n",
    "            term2 = self.q * self.s * np.exp(-self.q * self.t) * norm.cdf(self.d1)\n",
    "            term3 = self.r * self.k * np.exp(-self.r * self.t) * norm.cdf(self.d2)\n",
    "            return (term1 - term2 - term3) / 365\n",
    "        elif option_type == 'put':\n",
    "            term2 = self.q * self.s * np.exp(-self.q * self.t) * norm.cdf(-self.d1)\n",
    "            term3 = self.r * self.k * np.exp(-self.r * self.t) * norm.cdf(-self.d2)\n",
    "            return (term1 + term2 + term3) / 365\n",
    "    \n",
    "\n",
    "    def rho(self, option_type):\n",
    "        if option_type == 'call':\n",
    "            return self.k * self.t * np.exp(-self.r * self.t) * norm.cdf(self.d2) / 100\n",
    "        elif option_type == 'put':\n",
    "            return -self.k * self.t * np.exp(-self.r * self.t) * norm.cdf(-self.d2) / 100\n",
    "        \n",
    "    def price(self, option_type):\n",
    "        if option_type == 'call':\n",
    "            return (self.s * np.exp(-self.q * self.t) * norm.cdf(self.d1)) - (self.k * np.exp(-self.r * self.t) * norm.cdf(self.d2))\n",
    "        elif option_type == 'put':\n",
    "            return (self.k * np.exp(-self.r * self.t) * norm.cdf(-self.d2)) - (self.s * np.exp(-self.q * self.t) * norm.cdf(-self.d1))\n",
    "    "
   ]
  },
  {
   "cell_type": "code",
   "execution_count": 3,
   "metadata": {},
   "outputs": [],
   "source": [
    "#Example : call option with strike 70, share price 75, TTE = 1 year, interest rate = 5%, vol = 0.2, dividend = 0.02\n",
    "S = 70\n",
    "K = 70\n",
    "T = 1        \n",
    "r = 0.05     \n",
    "vol = 0.2 \n",
    "q = 0.02     \n",
    "\n",
    "bs = BlackScholes(T, K, r, S, vol, q)"
   ]
  },
  {
   "cell_type": "code",
   "execution_count": 4,
   "metadata": {},
   "outputs": [
    {
     "name": "stdout",
     "output_type": "stream",
     "text": [
      "Option Delta:  0.586851146134764\n",
      "Option Gamma:  0.027072255364298168\n",
      "Option Vega:  0.26530810257012205\n",
      "Option Theta:  -0.014262209449249788\n",
      "Option Rho:  0.3462067637372565\n",
      "Option Price:  6.458903855707824\n"
     ]
    }
   ],
   "source": [
    "print(\"Option Delta: \", bs.delta(option_type='call'))\n",
    "print(\"Option Gamma: \", bs.gamma())\n",
    "print(\"Option Vega: \", bs.vega())\n",
    "print(\"Option Theta: \", bs.theta(option_type='call'))\n",
    "print(\"Option Rho: \", bs.rho(option_type='call'))\n",
    "print(\"Option Price: \", bs.price(option_type = 'call'))"
   ]
  }
 ],
 "metadata": {
  "kernelspec": {
   "display_name": "Python 3",
   "language": "python",
   "name": "python3"
  },
  "language_info": {
   "codemirror_mode": {
    "name": "ipython",
    "version": 3
   },
   "file_extension": ".py",
   "mimetype": "text/x-python",
   "name": "python",
   "nbconvert_exporter": "python",
   "pygments_lexer": "ipython3",
   "version": "3.12.4"
  }
 },
 "nbformat": 4,
 "nbformat_minor": 2
}
